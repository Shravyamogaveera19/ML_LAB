{
 "cells": [
  {
   "cell_type": "code",
   "execution_count": null,
   "id": "74555139",
   "metadata": {},
   "outputs": [
    {
     "name": "stdout",
     "output_type": "stream",
     "text": [
      "3\n"
     ]
    }
   ],
   "source": [
    "def minmax(depth,nodeIndex,maximisingPlayer,values,alpha,beta):\n",
    "    if depth == 3:\n",
    "        return values[nodeIndex]\n",
    "    \n",
    "    if maximisingPlayer:\n",
    "        best = float('-inf')\n",
    "        for i in range (2):\n",
    "            val = minmax(depth+1,nodeIndex*2+i,False,values,alpha,beta)\n",
    "            best = max(best,val)\n",
    "            alpha = max(best,alpha)\n",
    "            if beta <= alpha:\n",
    "                break\n",
    "        return best\n",
    "    else:\n",
    "        best = float('inf')\n",
    "        for i in range (2):\n",
    "            val = minmax(depth+1,nodeIndex*2+i,True,values,alpha,beta)\n",
    "            best = min(best,val)\n",
    "            alpha = min(best,alpha)\n",
    "            if beta <= alpha:\n",
    "                break\n",
    "        return best\n",
    "    \n",
    "values = [1,2,3,4,5,6,7,8]\n",
    "result = minmax(0,0,True,values,float('-inf'),float('inf'))\n",
    "print(result)\n",
    "\n",
    "    \n",
    "       "
   ]
  },
  {
   "cell_type": "code",
   "execution_count": null,
   "id": "0cfc4fb6",
   "metadata": {},
   "outputs": [],
   "source": []
  }
 ],
 "metadata": {
  "kernelspec": {
   "display_name": "Python 3",
   "language": "python",
   "name": "python3"
  },
  "language_info": {
   "codemirror_mode": {
    "name": "ipython",
    "version": 3
   },
   "file_extension": ".py",
   "mimetype": "text/x-python",
   "name": "python",
   "nbconvert_exporter": "python",
   "pygments_lexer": "ipython3",
   "version": "3.12.1"
  }
 },
 "nbformat": 4,
 "nbformat_minor": 5
}
