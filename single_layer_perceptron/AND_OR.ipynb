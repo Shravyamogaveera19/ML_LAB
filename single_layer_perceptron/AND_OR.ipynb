{
 "cells": [
  {
   "cell_type": "code",
   "execution_count": 10,
   "id": "714b16d2",
   "metadata": {},
   "outputs": [
    {
     "name": "stdout",
     "output_type": "stream",
     "text": [
      "AND function predictions:\n",
      "[[0]\n",
      " [0]\n",
      " [0]\n",
      " [1]]\n",
      "OR function predictions:\n",
      "[[0]\n",
      " [1]\n",
      " [1]\n",
      " [1]]\n",
      "\n",
      " AND function Prediction for input [1,0]\n",
      "[[0]]\n",
      "\n",
      " or function Prediction for input [1,0]\n",
      "[[1]]\n"
     ]
    }
   ],
   "source": [
    "import numpy as np\n",
    "\n",
    "def step_function(X):\n",
    "    return np.where(X>=0,1,0)\n",
    "\n",
    "X_and=np.array([[0,0],[0,1],[1,0],[1,1]])\n",
    "Y_and=np.array([[0],[0],[0],[1]])\n",
    "X_or=np.array([[0,0],[0,1],[1,0],[1,1]])\n",
    "Y_or=np.array([[0],[1],[1],[1]])\n",
    "\n",
    "class perceptron:\n",
    "\n",
    "    def __init__(self,input_size,learning_rate=0.1,epochs=1000):\n",
    "        self.weights=np.zeros((input_size,1))\n",
    "        self.bias=0\n",
    "        self.learning_rate=learning_rate\n",
    "        self.epochs=epochs\n",
    "\n",
    "    def train(self,X,Y):\n",
    "\n",
    "        for _ in range(self.epochs):\n",
    "            for inputs,label in zip(X,Y):\n",
    "                inputs=inputs.reshape(-1,1)\n",
    "                linear_output=np.dot(inputs.T,self.weights)+self.bias\n",
    "                prediction=step_function(linear_output)\n",
    "                error=label-prediction\n",
    "                self.weights+=self.learning_rate*error*inputs\n",
    "                self.bias+=self.learning_rate*error\n",
    "\n",
    "    def predict(self,X):\n",
    "        linear_output=np.dot(X,self.weights)+self.bias\n",
    "        return step_function(linear_output)\n",
    "\n",
    "perceptron_and=perceptron(input_size=2)\n",
    "perceptron_and.train(X_and,Y_and)\n",
    "perceptron_or=perceptron(input_size=2)\n",
    "perceptron_or.train(X_or,Y_or)\n",
    "\n",
    "print(\"AND function predictions:\")\n",
    "print(perceptron_and.predict(X_and))\n",
    "print(\"OR function predictions:\")\n",
    "print(perceptron_or.predict(X_or))\n",
    "\n",
    "and_test_input=np.array([[1,0]])\n",
    "print(\"\\n AND function Prediction for input [1,0]\")\n",
    "print(perceptron_and.predict(and_test_input))\n",
    "\n",
    "or_test_input=np.array([[1,0]])\n",
    "print(\"\\n or function Prediction for input [1,0]\")\n",
    "print(perceptron_or.predict(or_test_input))"
   ]
  },
  {
   "cell_type": "code",
   "execution_count": 11,
   "id": "5a9010c1",
   "metadata": {},
   "outputs": [
    {
     "name": "stdout",
     "output_type": "stream",
     "text": [
      "[[1]\n",
      " [1]\n",
      " [1]\n",
      " [1]]\n",
      "[[1]\n",
      " [1]\n",
      " [1]\n",
      " [1]]\n"
     ]
    }
   ],
   "source": [
    "import numpy as np\n",
    "\n",
    "X_and = np.array([[0,0],[0,1],[1,0],[1,1]])\n",
    "Y_and = np.array([[0],[0],[0],[1]])\n",
    "X_or = np.array([[0,0],[0,1],[1,0],[1,1]])\n",
    "Y_or = np.array([[0],[1],[1],[1]])\n",
    "\n",
    "def step_function(X):\n",
    "    return np.where(X>=0,1,0)\n",
    "\n",
    "class perceptron:\n",
    "\n",
    "    def __init__(self,input_size,learning_rate=0.1,epochs=1000):\n",
    "        self.weights = np.zeros((input_size,1))\n",
    "        self.bias = 0\n",
    "        self.learning_rate = learning_rate\n",
    "        self.epochs = epochs\n",
    "\n",
    "    def train(self,X,Y):\n",
    "        for i in range(self.epochs):\n",
    "            for inputs,label in zip(X,Y):\n",
    "                inputs=inputs.reshape(-1,1)\n",
    "                linear_output = np.dot(inputs.T,self.weights)+self.bias\n",
    "                prediction = step_function(linear_output)\n",
    "                error = label-prediction\n",
    "                self.weights += self.learning_rate * error *inputs \n",
    "                self.weights += self.learning_rate * error \n",
    "\n",
    "    def predict(self,X):\n",
    "        linear_output = np.dot(X, self.weights)+self.bias\n",
    "        return step_function(linear_output)\n",
    "    \n",
    "perceptron_and= perceptron(input_size = 2)\n",
    "perceptron_and.train(X_and,Y_and)\n",
    "perceptron_or= perceptron(input_size = 2)\n",
    "perceptron_or.train (X_or,Y_or)\n",
    "\n",
    "print(perceptron_and.predict(X_and))\n",
    "print(perceptron_or.predict(X_or))"
   ]
  },
  {
   "cell_type": "code",
   "execution_count": null,
   "id": "5222fef4",
   "metadata": {},
   "outputs": [],
   "source": []
  }
 ],
 "metadata": {
  "kernelspec": {
   "display_name": "Python 3",
   "language": "python",
   "name": "python3"
  },
  "language_info": {
   "codemirror_mode": {
    "name": "ipython",
    "version": 3
   },
   "file_extension": ".py",
   "mimetype": "text/x-python",
   "name": "python",
   "nbconvert_exporter": "python",
   "pygments_lexer": "ipython3",
   "version": "3.12.1"
  }
 },
 "nbformat": 4,
 "nbformat_minor": 5
}
