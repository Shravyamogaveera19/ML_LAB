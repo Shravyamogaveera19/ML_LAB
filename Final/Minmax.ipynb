{
 "cells": [
  {
   "cell_type": "code",
   "execution_count": null,
   "id": "34282c3e",
   "metadata": {},
   "outputs": [
    {
     "name": "stdout",
     "output_type": "stream",
     "text": [
      "The result:12\n"
     ]
    }
   ],
   "source": [
    "#MIN-MAX ALGORITHM\n",
    "def minmax(depth,nodeIndex,maximisingPlayer,values, alpha,beta):\n",
    "    if depth == 3:\n",
    "        return values[nodeIndex]\n",
    "    if maximisingPlayer:\n",
    "        best = float('-inf')\n",
    "        for i in range(2):\n",
    "            val = minmax(depth+1,nodeIndex*2+i,False,values, float('-inf'),float('inf'))\n",
    "            best = max(best,val)\n",
    "        return best\n",
    "    else:\n",
    "        best = float('inf')\n",
    "        for i in range(2):\n",
    "            val = minmax(depth+1,nodeIndex*2+i,True,values, float('-inf'),float('inf'))\n",
    "            best = min(best,val)\n",
    "        return best\n",
    "#depth 3 and 8 terminal nodes\n",
    "values = [3,5,2,9,12,5,23,23]\n",
    "\n",
    "result = minmax(0,0,True,values, float('-inf'),float('inf'))\n",
    "print(f\"The result:{result}\")\n",
    "\n",
    "    "
   ]
  },
  {
   "cell_type": "code",
   "execution_count": null,
   "id": "ecafc8eb",
   "metadata": {},
   "outputs": [],
   "source": []
  }
 ],
 "metadata": {
  "kernelspec": {
   "display_name": "Python 3",
   "language": "python",
   "name": "python3"
  },
  "language_info": {
   "codemirror_mode": {
    "name": "ipython",
    "version": 3
   },
   "file_extension": ".py",
   "mimetype": "text/x-python",
   "name": "python",
   "nbconvert_exporter": "python",
   "pygments_lexer": "ipython3",
   "version": "3.12.1"
  }
 },
 "nbformat": 4,
 "nbformat_minor": 5
}
