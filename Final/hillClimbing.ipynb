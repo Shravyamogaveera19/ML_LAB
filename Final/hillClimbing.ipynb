{
 "cells": [
  {
   "cell_type": "code",
   "execution_count": 1,
   "id": "1344c287",
   "metadata": {},
   "outputs": [
    {
     "name": "stdout",
     "output_type": "stream",
     "text": [
      "Path found from A to G: ['A', 'C', 'F', 'G']\n"
     ]
    }
   ],
   "source": [
    "def hill_climbing(graph, start, goal, heuristic):\n",
    "    current = start\n",
    "    path = [current]\n",
    "\n",
    "    while current != goal:\n",
    "        neighbors = graph[current]\n",
    "\n",
    "        if not neighbors:\n",
    "            print(f\"No more neighbors to explore from {current}. Stuck at local maxima.\")\n",
    "            return path\n",
    "\n",
    "        # Choose neighbor with the lowest heuristic value\n",
    "        next_node = min(neighbors, key=lambda x: heuristic[x])\n",
    "\n",
    "        # If the heuristic value does not improve, stop (local maxima)\n",
    "        if heuristic[next_node] >= heuristic[current]:\n",
    "            print(f\"Reached local maxima at {current}. Stopping search.\")\n",
    "            return path\n",
    "\n",
    "        current = next_node\n",
    "        path.append(current)\n",
    "\n",
    "    return path\n",
    "\n",
    "\n",
    "# Graph structure (undirected)\n",
    "graph = {\n",
    "    'A': ['B', 'C', 'D'],\n",
    "    'B': ['A', 'E'],\n",
    "    'C': ['A', 'E', 'D', 'F'],\n",
    "    'D': ['A', 'F', 'C'],\n",
    "    'E': ['B', 'C', 'H'],\n",
    "    'F': ['G', 'C', 'D'],\n",
    "    'G': [],\n",
    "    'H': ['E', 'G']\n",
    "}\n",
    "\n",
    "# Starting and goal node\n",
    "start = 'A'\n",
    "goal = 'G'\n",
    "\n",
    "# Heuristic values (estimated cost to goal)\n",
    "heuristic = {\n",
    "    'A': 40,\n",
    "    'B': 32,\n",
    "    'C': 25,\n",
    "    'D': 35,\n",
    "    'E': 19,\n",
    "    'F': 17,\n",
    "    'G': 0,\n",
    "    'H': 10\n",
    "}\n",
    "\n",
    "# Run Hill Climbing algorithm\n",
    "result = hill_climbing(graph, start, goal, heuristic)\n",
    "\n",
    "# Display the result\n",
    "if result and result[-1] == goal:\n",
    "    print(f\"Path found from {start} to {goal}: {result}\")\n",
    "else:\n",
    "    print(f\"No path found from {start} to {goal}. Reached: {result[-1]}\")"
   ]
  },
  {
   "cell_type": "code",
   "execution_count": null,
   "id": "e1ecfb19-4516-49fe-b63b-a974584fae95",
   "metadata": {},
   "outputs": [
    {
     "data": {
      "text/plain": [
       "['A', 'C', 'F', 'G']"
      ]
     },
     "execution_count": 6,
     "metadata": {},
     "output_type": "execute_result"
    }
   ],
   "source": [
    "def hill_climbing(start,goal,graph,heuristic):\n",
    "    current = start\n",
    "    path=[current]\n",
    "\n",
    "    while goal != current:\n",
    "        neighbor = graph[current]\n",
    "        if not neighbor:\n",
    "           print(f\"No more path to explore from {current}.Stuck at local maxima\")\n",
    "           return path\n",
    "\n",
    "        next_node = min(neighbor,key=lambda x:heuristic[x] )\n",
    "\n",
    "        if heuristic[next_node]>=heuristic[current]:\n",
    "            print(f\"Reached local maxima at {current}.Stopping search.\")\n",
    "            return path\n",
    "\n",
    "        current = next_node\n",
    "        path.append(current)\n",
    "    return path\n",
    "\n",
    "graph = {\n",
    "     'A':['B','C','D'],\n",
    "     'B':['A','E'],\n",
    "     'C': ['A', 'E', 'D', 'F'],\n",
    "     'D': ['A', 'F', 'C'],\n",
    "     'E': ['B', 'C', 'H'],\n",
    "     'F': ['G', 'C', 'D'],\n",
    "     'G': [],\n",
    "     'H': ['E', 'G'] \n",
    " }\n",
    "\n",
    "start='A'\n",
    "goal='G'\n",
    "\n",
    "heuristic = {\n",
    "    'A':40,\n",
    "    'B':32,\n",
    "    'C':25,\n",
    "    'D':35,\n",
    "    'E':19,\n",
    "    'F':17,\n",
    "    'G':0,\n",
    "    'H':10\n",
    "}\n",
    "\n",
    "hill_climbing(start,goal,graph,heuristic)    "
   ]
  }
 ],
 "metadata": {
  "kernelspec": {
   "display_name": "Python 3 (ipykernel)",
   "language": "python",
   "name": "python3"
  },
  "language_info": {
   "codemirror_mode": {
    "name": "ipython",
    "version": 3
   },
   "file_extension": ".py",
   "mimetype": "text/x-python",
   "name": "python",
   "nbconvert_exporter": "python",
   "pygments_lexer": "ipython3",
   "version": "3.12.7"
  }
 },
 "nbformat": 4,
 "nbformat_minor": 5
}
